{
  "nbformat": 4,
  "nbformat_minor": 5,
  "metadata": {
    "kernelspec": {
      "display_name": "Python 3",
      "language": "python",
      "name": "python3"
    },
    "language_info": {
      "codemirror_mode": {
        "name": "ipython",
        "version": 3
      },
      "file_extension": ".py",
      "mimetype": "text/x-python",
      "name": "python",
      "nbconvert_exporter": "python",
      "pygments_lexer": "ipython3",
      "version": "3.8.8"
    },
    "colab": {
      "name": "ims.ipynb",
      "provenance": []
    }
  },
  "cells": [
    {
      "cell_type": "markdown",
      "metadata": {
        "id": "c1f8256c"
      },
      "source": [
        "## ims\n"
      ],
      "id": "c1f8256c"
    },
    {
      "cell_type": "code",
      "metadata": {
        "id": "8a4ed5e7"
      },
      "source": [
        "inventory = {\n",
        "    101: {\"Product name\": \"dettolhandwash\" , \"price\" : 80 , \"In stock items\" : 30 },\n",
        "    102: {\"Product name\": \"Haldiram Bhujia\", \"Price\": 30, \"In stock items\": 100},\n",
        "    103: {\"Product name\": \"Haldiram Channa\", \"Price\": 35, \"In stock items\": 90}, \n",
        "    104: {\"Product name\": \"Bicano Bhujia\", \"Price\": 25, \"In stock items\": 100}, \n",
        "    105: {\"Product name\": \"Bicano Channa\", \"Price\": 30, \"In stock items\": 80}, \n",
        "    106: {\"Product name\": \"Bourbon Biscuits\", \"Price\": 20, \"In stock items\": 80}, \n",
        "    107: {\"Product name\": \"Oreo Biscuits\", \"Price\": 30, \"In stock items\": 100}, \n",
        "    108: {\"Product name\": \"Good Day Biscuits\", \"Price\": 20, \"In stock items\": 70}, \n",
        "    109: {\"Product name\": \"Oatmeal Biscuits\", \"Price\": 50, \"In stock items\": 90}, \n",
        "    110: {\"Product name\": \"Raisins Packet\", \"Price\": 200, \"In stock items\": 500}, \n",
        "    111: {\"Product name\": \"Mixed Fruit jam\", \"Price\": 135, \"In stock items\": 90}, \n",
        "    112: {\"Product name\": \"Mango Jam\", \"Price\": 130, \"In stock items\": 100}, \n",
        "    113: {\"Product name\": \"Blueberry Jam\", \"Price\": 160, \"In stock items\": 50},\n",
        "    114: {\"Product name\": \"Maggi Noodles\", \"Price\": 40, \"In stock items\": 500}, \n",
        "    115: {\"Product name\": \"Schezwan Chutney\", \"Price\": 15, \"In stock items\": 100}, \n",
        "    116: {\"Product name\": \"Chings Noodles\", \"Price\": 20, \"In stock items\": 70}, \n",
        "    117: {\"Product name\": \"Saffola Oats\", \"Price\": 120, \"In stock items\": 90}, \n",
        "    118: {\"Product name\": \"Saffola Oodles\", \"Price\": 50, \"In stock items\": 50}, \n",
        "    119: {\"Product name\": \"Kelloggs Oats\", \"Price\": 75, \"In stock items\": 90}, \n",
        "    120: {\"Product name\": \"Kelloggs Muesli\", \"Price\": 200, \"In stock items\": 70}, \n",
        "    121: {\"Product name\": \"Peanut Butter\", \"Price\": 160, \"In stock items\": 80}, \n",
        "    122: {\"Product name\": \"Dry Fruits\", \"Price\": 500, \"In stock items\": 120}, \n",
        "    123: {\"Product name\": \"Henz Ketchup\", \"Price\": 30, \"In stock items\": 100}, \n",
        "    124: {\"Product name\": \"Kissan Ketchup\", \"Price\": 15, \"In stock items\": 70}, \n",
        "    125: {\"Product name\": \"Maggi Ketchup\", \"Price\": 30, \"In stock items\": 90}, \n",
        "    126: {\"Product name\": \"Toothbrush\", \"Price\": 20, \"In stock items\": 100}, \n",
        "    127: {\"Product name\": \"Toothpaste\", \"Price\": 90, \"In stock items\": 90}, \n",
        "    128: {\"Product name\": \"Mortein refil\", \"Price\": 100, \"In stock items\": 100},\n",
        "    129: {\"Product name\": \"Hit Spray \", \"Price\": 100, \"In stock items\": 50}, \n",
        "    130: {\"Product name\": \"Odomos paste\", \"Price\": 40, \"In stock items\": 20}\n",
        "    \n",
        "    \n",
        "}"
      ],
      "id": "8a4ed5e7",
      "execution_count": null,
      "outputs": []
    },
    {
      "cell_type": "code",
      "metadata": {
        "id": "fc173753",
        "outputId": "b634c9a5-ea1d-4cdf-983d-42a04a50163e"
      },
      "source": [
        "ui_product = int(input(\"Enter product ID:\"))\n",
        "ui_quantity = int(input(\"Enter Quantity:\"))\n",
        "\n",
        "product = inventory.get(ui_product)\n",
        "\n",
        "if product:\n",
        "  print('product name: ',product.get('Product name'))\n",
        "  print('price per unit: ', product.get('Price'))\n",
        "  print('total amount : ', int(ui_quantity)*(product.get('Price')))\n",
        "  product['In stock items']-=ui_quantity\n",
        "else:\n",
        "  print('product not found')"
      ],
      "id": "fc173753",
      "execution_count": null,
      "outputs": [
        {
          "name": "stdout",
          "output_type": "stream",
          "text": [
            "Enter product ID:122\n",
            "Enter Quantity:5\n",
            "product name:  Dry Fruits\n",
            "price per unit:  500\n",
            "total amount :  2500\n"
          ]
        }
      ]
    },
    {
      "cell_type": "code",
      "metadata": {
        "id": "e5b9dd94"
      },
      "source": [
        "import json\n",
        "\n",
        "file = open('record.json', 'w')\n",
        "json.dump(inventory, file )"
      ],
      "id": "e5b9dd94",
      "execution_count": null,
      "outputs": []
    },
    {
      "cell_type": "code",
      "metadata": {
        "id": "5fe2e07a",
        "outputId": "9c7ad2e0-8aaa-4fb6-9d12-05808598ad82"
      },
      "source": [
        ""
      ],
      "id": "5fe2e07a",
      "execution_count": null,
      "outputs": [
        {
          "ename": "NameError",
          "evalue": "name 'record' is not defined",
          "output_type": "error",
          "traceback": [
            "\u001b[1;31m---------------------------------------------------------------------------\u001b[0m",
            "\u001b[1;31mNameError\u001b[0m                                 Traceback (most recent call last)",
            "\u001b[1;32m<ipython-input-25-b3663dc189e2>\u001b[0m in \u001b[0;36m<module>\u001b[1;34m\u001b[0m\n\u001b[1;32m----> 1\u001b[1;33m \u001b[0mrecord\u001b[0m\u001b[1;33m\u001b[0m\u001b[1;33m\u001b[0m\u001b[0m\n\u001b[0m",
            "\u001b[1;31mNameError\u001b[0m: name 'record' is not defined"
          ]
        }
      ]
    },
    {
      "cell_type": "code",
      "metadata": {
        "id": "8201f67e"
      },
      "source": [
        ""
      ],
      "id": "8201f67e",
      "execution_count": null,
      "outputs": []
    }
  ]
}